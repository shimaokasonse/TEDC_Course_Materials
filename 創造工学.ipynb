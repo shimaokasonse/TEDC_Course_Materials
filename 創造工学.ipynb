{
 "cells": [
  {
   "cell_type": "markdown",
   "metadata": {
    "collapsed": false
   },
   "source": [
    "<h1>Python Tutorial</h1>"
   ]
  },
  {
   "cell_type": "markdown",
   "metadata": {
    "collapsed": false
   },
   "source": [
    "<h2> Data Structures</h2>\n"
   ]
  },
  {
   "cell_type": "markdown",
   "metadata": {},
   "source": [
    "<h3>List</h3>"
   ]
  },
  {
   "cell_type": "code",
   "execution_count": 15,
   "metadata": {
    "collapsed": false
   },
   "outputs": [
    {
     "name": "stdout",
     "output_type": "stream",
     "text": [
      "1\n",
      "2\n",
      "3\n",
      "\n",
      "1\n",
      "2\n",
      "3\n",
      "4\n",
      "5\n"
     ]
    }
   ],
   "source": [
    "\n",
    "# List\n",
    "a_list = [1,2,3] \n",
    "\n",
    "# List: 繰り返し\n",
    "for i in a_list:\n",
    "    print i\n",
    "\n",
    "print\n",
    "# 問題１：1から５までの数字を要素に持つリストを作り、for文で各要素を出力せよ\n",
    "one_to_five = [1,2,3,4,5]\n",
    "for i in one_to_five:\n",
    "    print i"
   ]
  },
  {
   "cell_type": "code",
   "execution_count": 57,
   "metadata": {
    "collapsed": false
   },
   "outputs": [
    {
     "name": "stdout",
     "output_type": "stream",
     "text": [
      "5\n"
     ]
    }
   ],
   "source": [
    "# Listの長さ\n",
    "a_list = [1,3,4,5,4]\n",
    "print(len(a_list))"
   ]
  },
  {
   "cell_type": "code",
   "execution_count": 16,
   "metadata": {
    "collapsed": false
   },
   "outputs": [
    {
     "name": "stdout",
     "output_type": "stream",
     "text": [
      "[1, 2, 3, 44]\n",
      "\n",
      "[1, 2, 3, 4, 5, 8]\n"
     ]
    }
   ],
   "source": [
    "# List: 追加\n",
    "v_list.append(44)\n",
    "print v_list\n",
    "\n",
    "\n",
    "#問題１で定義したリストに新しく要素を加えなさい\n",
    "print \n",
    "\n",
    "one_to_five.append(8)\n",
    "print one_to_five"
   ]
  },
  {
   "cell_type": "code",
   "execution_count": 18,
   "metadata": {
    "collapsed": false
   },
   "outputs": [
    {
     "name": "stdout",
     "output_type": "stream",
     "text": [
      "3\n",
      "44\n",
      "2\n"
     ]
    }
   ],
   "source": [
    "# List: i番目にアクセス\n",
    "print v_list[2]\n",
    "print v_list[-1]\n",
    "print v_list[-3]"
   ]
  },
  {
   "cell_type": "code",
   "execution_count": 14,
   "metadata": {
    "collapsed": false
   },
   "outputs": [
    {
     "name": "stdout",
     "output_type": "stream",
     "text": [
      "['b', 'c', 'd']\n"
     ]
    }
   ],
   "source": [
    "# List: n番目からm-1番目までの範囲を切り出す\n",
    "v_list = [\"a\",\"b\",\"c\",\"d\",\"e\",\"f\",\"g\",\"h\"]\n",
    "\n",
    "print v_list[1:4]\n"
   ]
  },
  {
   "cell_type": "code",
   "execution_count": 16,
   "metadata": {
    "collapsed": false
   },
   "outputs": [
    {
     "name": "stdout",
     "output_type": "stream",
     "text": [
      "[0, 1, 2, 3, 4, 5, 6, 7, 8, 9]\n",
      "[2, 3, 4]\n",
      "[0, 2, 4, 6, 8, 10]\n",
      "[0, 3, 6, 9, 12, 15, 18, 21, 24, 27, 30]\n"
     ]
    }
   ],
   "source": [
    "# List: 数字を列挙\n",
    "print range(10)\n",
    "print range(2,5)\n",
    "print range(0,11,2)\n",
    "\n",
    "# 問題：0から30までの、数を３つ飛びに出力せよ\n",
    "print range(0,32,3)"
   ]
  },
  {
   "cell_type": "code",
   "execution_count": 17,
   "metadata": {
    "collapsed": false
   },
   "outputs": [
    {
     "name": "stdout",
     "output_type": "stream",
     "text": [
      "0\n",
      "2\n",
      "4\n",
      "6\n",
      "8\n",
      "10\n"
     ]
    }
   ],
   "source": [
    "# List: For文と組み合わせる\n",
    "for i in range(0,11,2):\n",
    "    print i"
   ]
  },
  {
   "cell_type": "code",
   "execution_count": 129,
   "metadata": {
    "collapsed": false
   },
   "outputs": [
    {
     "name": "stdout",
     "output_type": "stream",
     "text": [
      "[3, 9, 12]\n"
     ]
    }
   ],
   "source": [
    "# (発展的内容) リスト内包表記\n",
    "a_list = [i * 3 for i in [1,3,4]]\n",
    "print a_list"
   ]
  },
  {
   "cell_type": "code",
   "execution_count": 13,
   "metadata": {
    "collapsed": false,
    "scrolled": true
   },
   "outputs": [
    {
     "name": "stdout",
     "output_type": "stream",
     "text": [
      "[1, 2, 3, 'a', 'aa']\n"
     ]
    }
   ],
   "source": [
    "a_list = [1,2,3]\n",
    "b_list = [\"a\",\"aa\"]\n",
    "print a_list + b_list\n"
   ]
  },
  {
   "cell_type": "code",
   "execution_count": 37,
   "metadata": {
    "collapsed": false
   },
   "outputs": [
    {
     "name": "stdout",
     "output_type": "stream",
     "text": [
      "[5]\n"
     ]
    }
   ],
   "source": [
    "a_list = [1,5,3,-1,3,44,13]\n",
    "print a_list[1:3:2]"
   ]
  },
  {
   "cell_type": "code",
   "execution_count": 12,
   "metadata": {
    "collapsed": false
   },
   "outputs": [
    {
     "data": {
      "text/plain": [
       "False"
      ]
     },
     "execution_count": 12,
     "metadata": {},
     "output_type": "execute_result"
    }
   ],
   "source": [
    "# 要素の存在の問い合わせ\n",
    "a_list = [2,3,5,7,11]\n",
    "4 in a_list"
   ]
  },
  {
   "cell_type": "code",
   "execution_count": 29,
   "metadata": {
    "collapsed": false
   },
   "outputs": [
    {
     "name": "stdout",
     "output_type": "stream",
     "text": [
      "[3, 6, 1, 44, 21, 4, -34, 23, 2]\n",
      "[-34, 1, 2, 3, 4, 6, 21, 23, 44]\n",
      "\n",
      "[2, 4, 5, 12, 4, 3, 99, -3, 22]\n",
      "[-3, 2, 3, 4, 4, 5, 12, 22, 99]\n"
     ]
    }
   ],
   "source": [
    "# リストのソート\n",
    "a_list = [3,6,1,44,21,4,-34,23,2]\n",
    "print a_list\n",
    "a_list.sort()\n",
    "print a_list\n",
    "print\n",
    "\n",
    "b_list = [2,4,5,12,4,3,99,-3,22]\n",
    "print b_list\n",
    "print sorted(b_list)\n",
    "\n",
    "# 問題：sorted(List) と List.sort() の違いは何か？"
   ]
  },
  {
   "cell_type": "code",
   "execution_count": 81,
   "metadata": {
    "collapsed": false
   },
   "outputs": [
    {
     "name": "stdout",
     "output_type": "stream",
     "text": [
      "[[1, 2, 3], [5, 6, 7], [9, 10, 11]]\n",
      "5\n"
     ]
    }
   ],
   "source": [
    "# ListのList\n",
    "a_list = [range(1,4),range(5,8),range(9,12)]\n",
    "print a_list\n",
    "print a_list[1][0]"
   ]
  },
  {
   "cell_type": "markdown",
   "metadata": {
    "collapsed": true
   },
   "source": [
    "<h3>Dictionary</h3>"
   ]
  },
  {
   "cell_type": "code",
   "execution_count": 19,
   "metadata": {
    "collapsed": false
   },
   "outputs": [
    {
     "name": "stdout",
     "output_type": "stream",
     "text": [
      "value1\n",
      "value3\n"
     ]
    }
   ],
   "source": [
    "# キーから値に効率よくアクセスするときに、辞書が便利。\n",
    "\n",
    "a_dict = {\"key1\":\"value1\",\"key2\":\"value2\",\"key3\":\"value3\"}\n",
    "print a_dict[\"key1\"]\n",
    "print a_dict[\"key3\"]"
   ]
  },
  {
   "cell_type": "code",
   "execution_count": 8,
   "metadata": {
    "collapsed": false
   },
   "outputs": [
    {
     "name": "stdout",
     "output_type": "stream",
     "text": [
      "{'new_key': 1000}\n"
     ]
    }
   ],
   "source": [
    "# キーと値のペアーを挿入。　\n",
    "a_dict = {}\n",
    "a_dict[\"new_key\"] = 1000\n",
    "print a_dict"
   ]
  },
  {
   "cell_type": "code",
   "execution_count": 9,
   "metadata": {
    "collapsed": false
   },
   "outputs": [
    {
     "name": "stdout",
     "output_type": "stream",
     "text": [
      "{'seven': 7, 'six': 6, 'three': 3, 'two': 2, 'four': 4, 'five': 5, 'one': 1}\n"
     ]
    }
   ],
   "source": [
    "# For文と組み合わせる\n",
    "numbers = [\"one\",\"two\",\"three\",\"four\",\"five\",\"six\",\"seven\"]\n",
    "a_dict = {}\n",
    "i = 1\n",
    "for number in numbers:\n",
    "    a_dict[number] = i\n",
    "    i = i + 1\n",
    "print a_dict"
   ]
  },
  {
   "cell_type": "code",
   "execution_count": 10,
   "metadata": {
    "collapsed": false
   },
   "outputs": [
    {
     "data": {
      "text/plain": [
       "True"
      ]
     },
     "execution_count": 10,
     "metadata": {},
     "output_type": "execute_result"
    }
   ],
   "source": [
    "# キーの存在の問い合わせ\n",
    "\"one\" in a_dict\n"
   ]
  },
  {
   "cell_type": "code",
   "execution_count": 271,
   "metadata": {
    "collapsed": false
   },
   "outputs": [
    {
     "data": {
      "text/plain": [
       "False"
      ]
     },
     "execution_count": 271,
     "metadata": {},
     "output_type": "execute_result"
    }
   ],
   "source": [
    "\"ten\" in a_dict"
   ]
  },
  {
   "cell_type": "code",
   "execution_count": 23,
   "metadata": {
    "collapsed": false
   },
   "outputs": [
    {
     "name": "stdout",
     "output_type": "stream",
     "text": [
      "{'key3': 'value3', 'key2': 'value2', 'key1': 'value1'}\n",
      "\n",
      "['value3', 'value2', 'value1']\n",
      "\n",
      "['key3', 'key2', 'key1']\n",
      "\n",
      "[('key3', 'value3'), ('key2', 'value2'), ('key1', 'value1')]\n"
     ]
    }
   ],
   "source": [
    "# キーのリスト、値のリストを得るには、、、\n",
    "print a_dict\n",
    "print\n",
    "print a_dict.values()\n",
    "print\n",
    "print a_dict.keys()\n",
    "print\n",
    "print a_dict.items()"
   ]
  },
  {
   "cell_type": "code",
   "execution_count": 24,
   "metadata": {
    "collapsed": false
   },
   "outputs": [
    {
     "name": "stdout",
     "output_type": "stream",
     "text": [
      "key is  key3\n",
      "value is  value3\n",
      "\n",
      "key is  key2\n",
      "value is  value2\n",
      "\n",
      "key is  key1\n",
      "value is  value1\n",
      "\n"
     ]
    }
   ],
   "source": [
    "# for文と組み合わせる\n",
    "for k, v in a_dict.items():\n",
    "    print \"key is \", k\n",
    "    print \"value is \",v\n",
    "    print"
   ]
  },
  {
   "cell_type": "markdown",
   "metadata": {},
   "source": [
    "<h3>String</h3>"
   ]
  },
  {
   "cell_type": "code",
   "execution_count": 30,
   "metadata": {
    "collapsed": false
   },
   "outputs": [
    {
     "name": "stdout",
     "output_type": "stream",
     "text": [
      "This is my home ,   he said .\n"
     ]
    }
   ],
   "source": [
    "# Pythonには文字列の便利な操作機能がたくさんそなわっている\n",
    "a_string = \"This is my home ,   he said .\"\n",
    "print a_string"
   ]
  },
  {
   "cell_type": "code",
   "execution_count": 36,
   "metadata": {
    "collapsed": false
   },
   "outputs": [
    {
     "name": "stdout",
     "output_type": "stream",
     "text": [
      "This is my home ,\n",
      "he said .\n"
     ]
    }
   ],
   "source": [
    "# エスケープ文字\n",
    "#①改行\n",
    "a_string = \"This is my home ,\\nhe said .\"\n",
    "print a_string\n"
   ]
  },
  {
   "cell_type": "code",
   "execution_count": 45,
   "metadata": {
    "collapsed": false
   },
   "outputs": [
    {
     "name": "stdout",
     "output_type": "stream",
     "text": [
      "This is my home ,\the said .\n"
     ]
    }
   ],
   "source": [
    "#②タブ\n",
    "a_string = \"This is my home ,\\the said .\"\n",
    "print a_string"
   ]
  },
  {
   "cell_type": "code",
   "execution_count": 46,
   "metadata": {
    "collapsed": false
   },
   "outputs": [
    {
     "name": "stdout",
     "output_type": "stream",
     "text": [
      "She has been that,  and she still is .\n"
     ]
    }
   ],
   "source": [
    "# 文字列の足し算\n",
    "a_string = \"She has been that, \"\n",
    "b_string = \" and she still is .\"\n",
    "print a_string + b_string"
   ]
  },
  {
   "cell_type": "code",
   "execution_count": 54,
   "metadata": {
    "collapsed": false
   },
   "outputs": [
    {
     "data": {
      "text/plain": [
       "'abcde...'"
      ]
     },
     "execution_count": 54,
     "metadata": {},
     "output_type": "execute_result"
    }
   ],
   "source": [
    "# 大文字を小文字に変換\n",
    "A_string = \"ABCDE...\"\n",
    "a_string.lower()"
   ]
  },
  {
   "cell_type": "code",
   "execution_count": 55,
   "metadata": {
    "collapsed": false
   },
   "outputs": [
    {
     "name": "stdout",
     "output_type": "stream",
     "text": [
      "['What', 'government', 'should', 'do', 'now', 'is', 'get', 'out', 'of', 'the', 'way', '.']\n"
     ]
    }
   ],
   "source": [
    "# 文字列を分割\n",
    "a_string = \"What government should do now is get out of the way .\"\n",
    "a_list = a_string.split()\n",
    "print a_list"
   ]
  },
  {
   "cell_type": "code",
   "execution_count": 56,
   "metadata": {
    "collapsed": false
   },
   "outputs": [
    {
     "name": "stdout",
     "output_type": "stream",
     "text": [
      "What\n",
      "government\n",
      "should\n",
      "do\n",
      "now\n",
      "is\n",
      "get\n",
      "out\n",
      "of\n",
      "the\n",
      "way\n",
      ".\n"
     ]
    }
   ],
   "source": [
    "for word in a_list:\n",
    "    print word"
   ]
  },
  {
   "cell_type": "markdown",
   "metadata": {},
   "source": [
    "<h2>Control Structure</h2>"
   ]
  },
  {
   "cell_type": "markdown",
   "metadata": {},
   "source": [
    "<h3> Loop </h3>"
   ]
  },
  {
   "cell_type": "code",
   "execution_count": 59,
   "metadata": {
    "collapsed": false
   },
   "outputs": [
    {
     "name": "stdout",
     "output_type": "stream",
     "text": [
      "0\n",
      "1\n",
      "4\n",
      "9\n",
      "16\n",
      "25\n",
      "36\n",
      "49\n",
      "64\n",
      "81\n"
     ]
    }
   ],
   "source": [
    "for i in range(10):\n",
    "    print i ** 2"
   ]
  },
  {
   "cell_type": "code",
   "execution_count": 84,
   "metadata": {
    "collapsed": false
   },
   "outputs": [
    {
     "name": "stdout",
     "output_type": "stream",
     "text": [
      "1 2 3 4 5 6 7 8 9\n",
      "2 4 6 8 10 12 14 16 18\n",
      "3 6 9 12 15 18 21 24 27\n",
      "4 8 12 16 20 24 28 32 36\n",
      "5 10 15 20 25 30 35 40 45\n",
      "6 12 18 24 30 36 42 48 54\n",
      "7 14 21 28 35 42 49 56 63\n",
      "8 16 24 32 40 48 56 64 72\n",
      "9 18 27 36 45 54 63 72 81\n"
     ]
    }
   ],
   "source": [
    "for i in range(1,10):\n",
    "    for j in range(1,10):\n",
    "        print i * j,\n",
    "    print"
   ]
  },
  {
   "cell_type": "code",
   "execution_count": 65,
   "metadata": {
    "collapsed": false
   },
   "outputs": [
    {
     "name": "stdout",
     "output_type": "stream",
     "text": [
      "Cube of  four  is  64\n",
      "Cube of  three  is  27\n",
      "Cube of  five  is  125\n",
      "Cube of  two  is  8\n",
      "Cube of  one  is  1\n"
     ]
    }
   ],
   "source": [
    "a_dict = {\"one\":1,\"two\":2,\"three\":3,\"four\":4,\"five\":5}\n",
    "for k,v in a_dict.items():\n",
    "    print \"Cube of \",k,\" is \",v ** 3"
   ]
  },
  {
   "cell_type": "code",
   "execution_count": 67,
   "metadata": {
    "collapsed": false
   },
   "outputs": [
    {
     "name": "stdout",
     "output_type": "stream",
     "text": [
      "A\n",
      "n\n",
      "d\n",
      " \n",
      "h\n",
      "e\n",
      " \n",
      "h\n",
      "a\n",
      "d\n",
      " \n",
      "i\n",
      "t\n",
      " \n",
      "i\n",
      "n\n",
      " \n",
      "f\n",
      "o\n",
      "r\n",
      " \n",
      "y\n",
      "o\n",
      "u\n",
      " \n",
      "a\n",
      "f\n",
      "t\n",
      "e\n",
      "r\n",
      " \n",
      "a\n",
      "l\n",
      "l\n",
      " \n",
      "t\n",
      "h\n",
      "e\n",
      "s\n",
      "e\n",
      " \n",
      "y\n",
      "e\n",
      "a\n",
      "r\n",
      "s\n",
      " \n",
      "?\n"
     ]
    }
   ],
   "source": [
    "for character in \"And he had it in for you after all these years ?\":\n",
    "    print character"
   ]
  },
  {
   "cell_type": "code",
   "execution_count": 68,
   "metadata": {
    "collapsed": false
   },
   "outputs": [
    {
     "name": "stdout",
     "output_type": "stream",
     "text": [
      "And\n",
      "he\n",
      "had\n",
      "it\n",
      "in\n",
      "for\n",
      "you\n",
      "after\n",
      "all\n",
      "these\n",
      "years\n",
      "?\n"
     ]
    }
   ],
   "source": [
    "for word in \"And he had it in for you after all these years ?\".split():\n",
    "    print word"
   ]
  },
  {
   "cell_type": "markdown",
   "metadata": {},
   "source": [
    "<h3>Condition</h3>"
   ]
  },
  {
   "cell_type": "code",
   "execution_count": 176,
   "metadata": {
    "collapsed": false
   },
   "outputs": [
    {
     "name": "stdout",
     "output_type": "stream",
     "text": [
      "a is neither 2 nor 3.\n"
     ]
    }
   ],
   "source": [
    "a = 1\n",
    "if a == 3:\n",
    "    print \"a is 3.\"\n",
    "elif a == 2:\n",
    "    print \"a is 2.\"\n",
    "else:\n",
    "    print \"a is neither 2 nor 3.\""
   ]
  },
  {
   "cell_type": "code",
   "execution_count": 71,
   "metadata": {
    "collapsed": false
   },
   "outputs": [
    {
     "name": "stdout",
     "output_type": "stream",
     "text": [
      "a is 2.\n"
     ]
    }
   ],
   "source": [
    "a = 2\n",
    "if a == 3:\n",
    "    print \"a is 3.\"\n",
    "elif a == 2:\n",
    "    print \"a is 2.\"\n",
    "else:\n",
    "    print \"a is neither 2 nor 3.\""
   ]
  },
  {
   "cell_type": "code",
   "execution_count": 74,
   "metadata": {
    "collapsed": false
   },
   "outputs": [
    {
     "name": "stdout",
     "output_type": "stream",
     "text": [
      "True\n",
      "False\n",
      "False\n",
      "True\n"
     ]
    }
   ],
   "source": [
    "print True or False\n",
    "print False or False\n",
    "print True and False\n",
    "print not False"
   ]
  },
  {
   "cell_type": "code",
   "execution_count": 72,
   "metadata": {
    "collapsed": false
   },
   "outputs": [
    {
     "name": "stdout",
     "output_type": "stream",
     "text": [
      "This is always printed.\n"
     ]
    }
   ],
   "source": [
    "if True:\n",
    "    print \"This is always printed.\"\n",
    "elif True:\n",
    "    print \"This is never printed.\"\n",
    "else:\n",
    "    print \"This is never printed.\""
   ]
  },
  {
   "cell_type": "code",
   "execution_count": 75,
   "metadata": {
    "collapsed": false
   },
   "outputs": [
    {
     "name": "stdout",
     "output_type": "stream",
     "text": [
      "Want\n",
      "We\n",
      "were\n",
      "When\n",
      "was\n",
      "way\n",
      "Were\n"
     ]
    }
   ],
   "source": [
    "document = \"\"\" Want to case a game ?\n",
    "                            They did get more for their money .\n",
    "                            Then you have to go out and get a new one .\n",
    "                             We were good , too .\n",
    "                            When he called on her , she was there .\n",
    "                             Think about it this way ,   she said .\n",
    "                            Were they in New York City or not ?\"\"\"\n",
    "\n",
    "words = document.split()\n",
    "words_start_with_W = []\n",
    "for word in words:\n",
    "    if word[0] in [\"w\",\"W\"]:\n",
    "        print word"
   ]
  },
  {
   "cell_type": "markdown",
   "metadata": {},
   "source": [
    "<h3>Function</h3>"
   ]
  },
  {
   "cell_type": "code",
   "execution_count": 77,
   "metadata": {
    "collapsed": false
   },
   "outputs": [
    {
     "name": "stdout",
     "output_type": "stream",
     "text": [
      "0\n",
      "1\n",
      "4\n",
      "9\n"
     ]
    }
   ],
   "source": [
    "def square(x):\n",
    "    return x ** 2\n",
    "\n",
    "for i in range(4):\n",
    "    print square(i)"
   ]
  },
  {
   "cell_type": "code",
   "execution_count": 143,
   "metadata": {
    "collapsed": false
   },
   "outputs": [
    {
     "name": "stdout",
     "output_type": "stream",
     "text": [
      "120\n"
     ]
    }
   ],
   "source": [
    "# 再帰\n",
    "\n",
    "def factorial(n):\n",
    "    if n == 0:\n",
    "        return 1\n",
    "    return n * factorial(n-1)\n",
    "\n",
    "print factorial(5)"
   ]
  },
  {
   "cell_type": "code",
   "execution_count": 155,
   "metadata": {
    "collapsed": false
   },
   "outputs": [
    {
     "name": "stdout",
     "output_type": "stream",
     "text": [
      "computing factorial(3) ...\n",
      "computing factorial(2) ...\n",
      "computing factorial(1) ...\n",
      "computing factorial(0) ...\n",
      "6\n"
     ]
    }
   ],
   "source": [
    "def factorial_verbose(n):\n",
    "    print \"computing factorial(\"+str(n)+\") ...\"\n",
    "    if n == 0:\n",
    "        return 1\n",
    "    return n * factorial_verbose(n-1)\n",
    "\n",
    "print factorial_verbose(3)"
   ]
  },
  {
   "cell_type": "code",
   "execution_count": 110,
   "metadata": {
    "collapsed": false
   },
   "outputs": [
    {
     "name": "stdout",
     "output_type": "stream",
     "text": [
      "False\n",
      "False\n",
      "True\n"
     ]
    }
   ],
   "source": [
    "def is_prime(x):\n",
    "    if x == 0 or x == 1:\n",
    "        return False\n",
    "    for y in range(2,x):\n",
    "        if x % y == 0:\n",
    "            # print str(x) + \" / \" + str(y) + \" = \" + str(x/y)\n",
    "            return False\n",
    "    return True\n",
    "\n",
    "print is_prime(8)\n",
    "\n",
    "print is_prime(611)\n",
    "\n",
    "print is_prime(811)"
   ]
  },
  {
   "cell_type": "code",
   "execution_count": 125,
   "metadata": {
    "collapsed": false
   },
   "outputs": [
    {
     "name": "stdout",
     "output_type": "stream",
     "text": [
      "12\n",
      "6\n",
      "0\n"
     ]
    }
   ],
   "source": [
    "#（発展的内容）ラムダ式\n",
    "\n",
    "print (lambda x: x+2)(10)\n",
    "print (lambda x,y: x*y)(2,3)\n",
    "print (lambda x: 0 if x < 0 else x)(-40)"
   ]
  },
  {
   "cell_type": "code",
   "execution_count": 126,
   "metadata": {
    "collapsed": false
   },
   "outputs": [
    {
     "name": "stdout",
     "output_type": "stream",
     "text": [
      "[0, 1, 4, 9, 16, 25, 36, 49, 64, 81, 100]\n",
      "50005000\n",
      "[2, 3, 5, 7, 11, 13, 17, 19, 23, 29, 31, 37, 41, 43, 47, 53, 59, 61, 67, 71, 73, 79, 83, 89, 97, 101, 103, 107, 109, 113, 127, 131, 137, 139, 149, 151, 157, 163, 167, 173, 179, 181, 191, 193, 197, 199, 211, 223, 227, 229, 233, 239, 241, 251, 257, 263, 269, 271, 277, 281, 283, 293, 307, 311, 313, 317, 331, 337, 347, 349, 353, 359, 367, 373, 379, 383, 389, 397, 401, 409, 419, 421, 431, 433, 439, 443, 449, 457, 461, 463, 467, 479, 487, 491, 499, 503, 509, 521, 523, 541, 547, 557, 563, 569, 571, 577, 587, 593, 599, 601, 607, 613, 617, 619, 631, 641, 643, 647, 653, 659, 661, 673, 677, 683, 691, 701, 709, 719, 727, 733, 739, 743, 751, 757, 761, 769, 773, 787, 797, 809, 811, 821, 823, 827, 829, 839, 853, 857, 859, 863, 877, 881, 883, 887, 907, 911, 919, 929, 937, 941, 947, 953, 967, 971, 977, 983, 991, 997]\n"
     ]
    }
   ],
   "source": [
    "#（発展的内容）Map, Reduce, Filter\n",
    "\n",
    "# 0から１０までの数の２乗\n",
    "print map(square,range(11))\n",
    "\n",
    "# 0から１００００までの整数の合計\n",
    "print reduce(lambda x,y:x+y ,range(10001), 0)\n",
    "\n",
    "# 0から１０００までの全ての素数\n",
    "print filter(is_prime,range(1000))"
   ]
  },
  {
   "cell_type": "markdown",
   "metadata": {},
   "source": [
    "<h3>File io</h3>"
   ]
  },
  {
   "cell_type": "code",
   "execution_count": 134,
   "metadata": {
    "collapsed": false
   },
   "outputs": [
    {
     "name": "stdout",
     "output_type": "stream",
     "text": [
      " No ,  he says now .\n",
      "And what did he do ?\n",
      " The money 's there .\n",
      "That was less than a year ago .\n",
      "But \n"
     ]
    }
   ],
   "source": [
    "f = open(\"raw_sentences.txt\",\"r\") # 開く\n",
    "document = f.read()   # 全て読み込む\n",
    "f.close() # 開いたままにしない\n",
    "\n",
    "print document[:100] # 最初の１００文字"
   ]
  },
  {
   "cell_type": "code",
   "execution_count": 133,
   "metadata": {
    "collapsed": false,
    "scrolled": true
   },
   "outputs": [
    {
     "name": "stdout",
     "output_type": "stream",
     "text": [
      " No ,  he says now .\n",
      "And what did he do ?\n",
      " The money 's there .\n",
      "That was less than a year ago .\n",
      "But he made only the first .\n",
      "There 's still time for them to do it .\n",
      "But he should nt have .\n",
      " They have to come down to the people .\n",
      "I do nt know where that is .\n",
      "No , I would nt .\n"
     ]
    }
   ],
   "source": [
    "f = open(\"raw_sentences.txt\",\"r\")\n",
    "for i in range(10):\n",
    "    line = f.readline()  # 1行ずつ読み込む\n",
    "    print line,\n",
    "f.close()"
   ]
  },
  {
   "cell_type": "code",
   "execution_count": 138,
   "metadata": {
    "collapsed": false
   },
   "outputs": [
    {
     "name": "stdout",
     "output_type": "stream",
     "text": [
      "This is the first line.\n",
      "This is the second line.\n",
      "And this is the final line.\n"
     ]
    }
   ],
   "source": [
    "f = open(\"my_new_file.txt\",\"w\")\n",
    "f.write(\"This is the first line.\\nThis is the second line.\\nAnd this is the final line.\")\n",
    "f.close()\n",
    "\n",
    "f = open(\"my_new_file.txt\",\"r\")\n",
    "for i in range(3):\n",
    "    print f.readline(),\n",
    "f.close()"
   ]
  },
  {
   "cell_type": "code",
   "execution_count": 139,
   "metadata": {
    "collapsed": false
   },
   "outputs": [
    {
     "name": "stdout",
     "output_type": "stream",
     "text": [
      "This is the first line.\n",
      "This is the second line.\n",
      "And this is the final line.\n"
     ]
    }
   ],
   "source": [
    "f = open(\"my_new_file.txt\",\"r\")\n",
    "for line in f:\n",
    "    print line,\n",
    "f.close()"
   ]
  },
  {
   "cell_type": "code",
   "execution_count": 141,
   "metadata": {
    "collapsed": false
   },
   "outputs": [
    {
     "name": "stdout",
     "output_type": "stream",
     "text": [
      "This is the first line.\n",
      "This is the second line.\n",
      "And this is the final line.\n"
     ]
    }
   ],
   "source": [
    "# close() を書くのが面倒くさいときは、、、\n",
    "\n",
    "with open(\"my_new_file.txt\",\"r\") as f:\n",
    "    for line in f:\n",
    "        print line,"
   ]
  },
  {
   "cell_type": "markdown",
   "metadata": {},
   "source": [
    "<h1>Project </h1>"
   ]
  },
  {
   "cell_type": "code",
   "execution_count": 219,
   "metadata": {
    "collapsed": false
   },
   "outputs": [
    {
     "name": "stdout",
     "output_type": "stream",
     "text": [
      "757172\n"
     ]
    }
   ],
   "source": [
    "# 使われている単語数を調べよう\n",
    "with open(\"raw_sentences.txt\",\"r\") as f:\n",
    "    document = f.read().lower()\n",
    "words = document.split()\n",
    "\n",
    "print len(words)"
   ]
  },
  {
   "cell_type": "code",
   "execution_count": 220,
   "metadata": {
    "collapsed": false
   },
   "outputs": [
    {
     "name": "stdout",
     "output_type": "stream",
     "text": [
      "250\n"
     ]
    }
   ],
   "source": [
    "# 単語の頻度辞書を構築しよう\n",
    "vocabulary = {}\n",
    "for word in words:\n",
    "    if word not in vocabulary:\n",
    "        vocabulary[word] = 1\n",
    "    else:\n",
    "        vocabulary[word] += 1\n",
    "        \n",
    "print len(vocabulary)"
   ]
  },
  {
   "cell_type": "code",
   "execution_count": 221,
   "metadata": {
    "collapsed": false
   },
   "outputs": [
    {
     "name": "stdout",
     "output_type": "stream",
     "text": [
      ". 80974\n",
      "it 29200\n",
      ", 24583\n",
      "i 22267\n",
      "do 20245\n",
      "to 19537\n",
      "nt 16460\n",
      "? 16210\n",
      "the 15939\n",
      "that 15795\n"
     ]
    }
   ],
   "source": [
    "# 頻出する単語トップｎ個をみつけ、使用数とともに出力しよう\n",
    "\n",
    "sorted_words = sorted(vocabulary.items(),key=lambda t: -t[1])\n",
    "\n",
    "for word, frequency in sorted_words[:10]:\n",
    "    print word, frequency"
   ]
  },
  {
   "cell_type": "code",
   "execution_count": 232,
   "metadata": {
    "collapsed": false
   },
   "outputs": [
    {
     "name": "stdout",
     "output_type": "stream",
     "text": [
      "('They', 'did')\n",
      "('did', 'get')\n",
      "('get', 'more')\n",
      "('more', 'for')\n",
      "('for', 'their')\n",
      "('their', 'money')\n",
      "('money', '.')\n"
     ]
    }
   ],
   "source": [
    "# 単語のリストを受け取り、隣り合う単語のペアの組み合わせを出力する関数\n",
    "def combination(words):\n",
    "    result = []\n",
    "    length = len(words)\n",
    "    for i in range(length-1):\n",
    "        pair1 = (words[i],words[i+1])\n",
    "      #  pair2 = (words[i+1],words[i])\n",
    "        result.append(pair1)\n",
    "       # result.append(pair2)\n",
    "    return result\n",
    "\n",
    "for pair in combination(\"They did get more for their money .\".split()):\n",
    "    print pair"
   ]
  },
  {
   "cell_type": "code",
   "execution_count": 233,
   "metadata": {
    "collapsed": false
   },
   "outputs": [
    {
     "name": "stdout",
     "output_type": "stream",
     "text": [
      "660010\n"
     ]
    }
   ],
   "source": [
    "# ファイルのすべての文に対して、combinationを適用する\n",
    "all_word_pairs = []\n",
    "with open(\"raw_sentences.txt\",\"r\") as f:\n",
    "    for line in f:\n",
    "        words = line.lower().split()\n",
    "        word_pairs = combination(words)\n",
    "        all_word_pairs += word_pairs\n",
    "print len(all_word_pairs )"
   ]
  },
  {
   "cell_type": "code",
   "execution_count": 234,
   "metadata": {
    "collapsed": false
   },
   "outputs": [
    {
     "name": "stdout",
     "output_type": "stream",
     "text": [
      "59\n",
      "me\n"
     ]
    }
   ],
   "source": [
    "# 単語を数字のIDで表す\n",
    "word2id = {}\n",
    "id2word = {}\n",
    "i = 0\n",
    "for w,_ in sorted_words:\n",
    "    word2id[w] = i\n",
    "    id2word[i] = w\n",
    "    i += 1\n",
    "\n",
    "print word2id[\"me\"]\n",
    "print id2word[59]"
   ]
  },
  {
   "cell_type": "code",
   "execution_count": 255,
   "metadata": {
    "collapsed": true
   },
   "outputs": [],
   "source": [
    "import numpy as np\n",
    "\n",
    "# 単語の共起行列を作る\n",
    "## 初期化\n",
    "voc_size = len(word2id)\n",
    "W = np.ones((voc_size,voc_size))\n",
    "## 値を入れる\n",
    "for w1,w2 in all_word_pairs:\n",
    "    W[word2id[w1],word2id[w2]] += 1\n",
    "## 正規化\n",
    "for i in range(voc_size):\n",
    "    W[i] = W[i]/sum(W[i])\n"
   ]
  },
  {
   "cell_type": "code",
   "execution_count": 259,
   "metadata": {
    "collapsed": false
   },
   "outputs": [
    {
     "name": "stdout",
     "output_type": "stream",
     "text": [
      "0.774596669241\n"
     ]
    }
   ],
   "source": [
    "# COS類似度\n",
    "\n",
    "def cos(v,u):\n",
    "    return np.dot(v,u)/np.sqrt(np.dot(v,v)*np.dot(u,u))\n",
    "\n",
    "print cos([1,1,1],[1,0,2])\n",
    "\n"
   ]
  },
  {
   "cell_type": "code",
   "execution_count": 260,
   "metadata": {
    "collapsed": false
   },
   "outputs": [
    {
     "name": "stdout",
     "output_type": "stream",
     "text": [
      "0.524524863515\n",
      "0.559481644313\n",
      "0.0934815187047\n",
      "0.456142806753\n"
     ]
    }
   ],
   "source": [
    "#  \"many\" に似ているものはどれ？\n",
    "\n",
    "print cos(W[word2id[\"many\"]],W[word2id[\"more\"]])\n",
    "print cos(W[word2id[\"many\"]],W[word2id[\"much\"]])\n",
    "print cos(W[word2id[\"many\"]],W[word2id[\"have\"]])\n",
    "print cos(W[word2id[\"many\"]],W[word2id[\"me\"]])"
   ]
  },
  {
   "cell_type": "code",
   "execution_count": 268,
   "metadata": {
    "collapsed": false
   },
   "outputs": [
    {
     "name": "stdout",
     "output_type": "stream",
     "text": [
      "should 1.0\n",
      "could 0.897335414953\n",
      "would 0.860723615544\n",
      "will 0.741575152212\n",
      "might 0.706334019973\n",
      "may 0.701131053978\n",
      "did 0.567033581453\n",
      "to 0.561063686481\n",
      "does 0.547091952631\n",
      "do 0.533046192689\n"
     ]
    }
   ],
   "source": [
    "# 最も似ている単語トップ１０は？\n",
    "\n",
    "def similar_words(word,n):\n",
    "    words_with_sim = map(lambda w: (w,cos(W[word2id[word]],W[word2id[w]])),word2id.keys())\n",
    "    top_n = sorted(words_with_sim,key = lambda t: -t[1])[:n]\n",
    "    return top_n\n",
    "\n",
    "for word, cos_sim in similar_words(\"should\",10):\n",
    "    print word, cos_sim"
   ]
  },
  {
   "cell_type": "code",
   "execution_count": 239,
   "metadata": {
    "collapsed": false
   },
   "outputs": [],
   "source": [
    "# 主成分分解\n",
    "from sklearn.decomposition import PCA\n",
    "\n",
    "pca = PCA(2)\n",
    "L = pca.fit_transform(W)\n",
    "\n",
    "# t-sneによる可視化\n",
    "#from sklearn.manifold import TSNE\n",
    "\n",
    "#tsne = TSNE(2)\n",
    "#L = tsne.fit_transform(W)"
   ]
  },
  {
   "cell_type": "code",
   "execution_count": 270,
   "metadata": {
    "collapsed": false
   },
   "outputs": [
    {
     "data": {
      "image/png": "[encoded data removed]",
      "text/plain": [
       "<matplotlib.figure.Figure at 0x12ca3c150>"
      ]
     },
     "metadata": {},
     "output_type": "display_data"
    }
   ],
   "source": [
    "# 可視化\n",
    "%matplotlib inline\n",
    "import matplotlib.pyplot as plt\n",
    "import matplotlib\n",
    "\n",
    "matplotlib.rcParams['figure.figsize'] = (15,15)\n",
    "\n",
    "fig, ax = plt.subplots()\n",
    "ax.scatter(L[:,0], L[:,1])\n",
    "\n",
    "for word, i in word2id.items():\n",
    "    ax.annotate(word, (L[i,0],L[i,1]))\n",
    "\n",
    "plt.savefig(\"vis.png\")"
   ]
  },
  {
   "cell_type": "code",
   "execution_count": 177,
   "metadata": {
    "collapsed": true
   },
   "outputs": [],
   "source": [
    "# TODO\n",
    "# 様々な発展課題（モジュール化、全単語を小文字にする、大規模なデータに適用、ストップワード除去などなど）"
   ]
  },
  {
   "cell_type": "code",
   "execution_count": null,
   "metadata": {
    "collapsed": true
   },
   "outputs": [],
   "source": []
  }
 ],
 "metadata": {
  "kernelspec": {
   "display_name": "Python 2",
   "language": "python",
   "name": "python2"
  },
  "language_info": {
   "codemirror_mode": {
    "name": "ipython",
    "version": 2
   },
   "file_extension": ".py",
   "mimetype": "text/x-python",
   "name": "python",
   "nbconvert_exporter": "python",
   "pygments_lexer": "ipython2",
   "version": "2.7.10"
  }
 },
 "nbformat": 4,
 "nbformat_minor": 0
}
